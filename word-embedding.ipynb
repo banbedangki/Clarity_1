{
  "nbformat": 4,
  "nbformat_minor": 0,
  "metadata": {
    "colab": {
      "name": "Untitled1.ipynb",
      "provenance": [],
      "collapsed_sections": [],
      "include_colab_link": true
    },
    "kernelspec": {
      "name": "python3",
      "display_name": "Python 3"
    }
  },
  "cells": [
    {
      "cell_type": "markdown",
      "metadata": {
        "id": "view-in-github",
        "colab_type": "text"
      },
      "source": [
        "<a href=\"https://colab.research.google.com/github/banbedangki/Clarity_1/blob/master/word-embedding.ipynb\" target=\"_parent\"><img src=\"https://colab.research.google.com/assets/colab-badge.svg\" alt=\"Open In Colab\"/></a>"
      ]
    },
    {
      "cell_type": "code",
      "metadata": {
        "id": "eGiqHHn25_xB",
        "colab_type": "code",
        "colab": {}
      },
      "source": [
        "from gensim.models import Word2Vec"
      ],
      "execution_count": 0,
      "outputs": []
    },
    {
      "cell_type": "code",
      "metadata": {
        "id": "LxdiI_y17UKg",
        "colab_type": "code",
        "colab": {
          "base_uri": "https://localhost:8080/",
          "height": 547
        },
        "outputId": "31c7cc67-ec87-4c65-a816-341c39556875"
      },
      "source": [
        "# input data\n",
        "sentences = [['this', 'is', 'the', 'first', 'sentence', 'for', 'word2vec'],\n",
        "      ['this', 'is', 'the', 'second', 'sentence', 'for', 'word2vec'],\n",
        "\t\t\t['it', 'is', 'the', 'third', 'sentence', 'for', 'word2vec'],\n",
        "\t\t\t['yet', 'another', 'sentence'],\n",
        "\t\t\t['one', 'more', 'sentence'],\n",
        "\t\t\t['the', 'final', 'sentence']]\n",
        "\n",
        "# train model\n",
        "model = Word2Vec(sentences, size = 100, min_count=1, sg = 1) \n",
        "\n",
        "# summarize the loaded model\n",
        "print(\"Model summary:\",model)\n",
        "\n",
        "# summarize vocabulary\n",
        "words = list(model.wv.vocab) # \n",
        "print(\"List words in vocabulary:\",words)\n",
        "\n",
        "# access vector for one word\n",
        "print(\"Vector for word 'sentence':\",model['first'])\n",
        "\n",
        "# save model\n",
        "model.save('model.bin')\n",
        "\n",
        "# load model\n",
        "new_model = Word2Vec.load('model.bin')"
      ],
      "execution_count": 8,
      "outputs": [
        {
          "output_type": "stream",
          "text": [
            "Model summary: Word2Vec(vocab=15, size=100, alpha=0.025)\n",
            "List words in vocabulary: ['this', 'is', 'the', 'first', 'sentence', 'for', 'word2vec', 'second', 'it', 'third', 'yet', 'another', 'one', 'more', 'final']\n",
            "Vector for word 'sentence': [ 2.8241558e-03 -3.7426124e-03 -3.4185604e-03 -4.9430276e-03\n",
            " -4.2949179e-03 -2.2429614e-03  2.5520888e-03  3.9839516e-03\n",
            " -4.5262659e-03  1.5583662e-03 -3.6097167e-03  2.7981622e-03\n",
            "  4.3633804e-04 -1.0378031e-03  4.9142526e-03  3.7796844e-03\n",
            "  3.3909942e-03  2.4758414e-03 -1.1854207e-03 -2.1256423e-03\n",
            " -1.7702997e-03 -2.3269525e-03  2.7794410e-03  1.0194253e-03\n",
            " -3.2154585e-03  8.5488035e-05 -1.6400593e-03  2.0812387e-03\n",
            " -4.0352126e-03 -1.1086813e-03 -9.9609036e-04 -2.2473198e-04\n",
            " -3.7374103e-03 -7.8297022e-04 -7.9473492e-04  5.9575395e-04\n",
            " -1.1432645e-03  1.8969920e-03 -3.2602388e-03  4.5200805e-03\n",
            " -3.2637094e-03 -2.9822330e-03 -3.7563308e-03 -2.9982131e-03\n",
            " -1.6390393e-03 -2.7970178e-03  1.3683601e-03  4.0749442e-03\n",
            " -2.3972425e-04 -1.8438158e-03 -4.1339565e-03  4.5053302e-03\n",
            " -1.9847131e-03 -3.3583043e-03 -5.3017261e-04  3.5788533e-03\n",
            " -5.4281252e-04 -2.4063680e-03 -1.8112930e-04 -2.4525123e-03\n",
            "  1.7699285e-03  1.7214557e-03 -1.1502687e-03 -3.0871090e-03\n",
            " -2.9214858e-03 -3.5221507e-03  1.9921763e-03 -1.1990955e-03\n",
            "  4.4054235e-03  4.7933878e-03  1.7948968e-03  3.7356431e-03\n",
            "  4.2256508e-03 -3.0617719e-03  3.4408488e-03  3.4279018e-03\n",
            " -1.2962169e-03 -1.3249704e-04 -3.5932399e-03  1.2227617e-03\n",
            " -4.6618693e-03  2.4793132e-03  2.2238430e-03  3.9116479e-04\n",
            "  4.1301809e-03 -3.2095499e-03  4.0982589e-03 -1.6771564e-03\n",
            "  3.5252146e-04 -1.9605125e-03  3.5893563e-03 -3.3492306e-03\n",
            " -4.8388690e-03  1.8544183e-03 -3.0486332e-03  5.4038689e-04\n",
            " -1.8997059e-03 -6.5549999e-04 -1.3248494e-03  2.7285961e-03]\n"
          ],
          "name": "stdout"
        },
        {
          "output_type": "stream",
          "text": [
            "/usr/local/lib/python3.6/dist-packages/ipykernel_launcher.py:19: DeprecationWarning: Call to deprecated `__getitem__` (Method will be removed in 4.0.0, use self.wv.__getitem__() instead).\n",
            "/usr/local/lib/python3.6/dist-packages/smart_open/smart_open_lib.py:402: UserWarning: This function is deprecated, use smart_open.open instead. See the migration notes for details: https://github.com/RaRe-Technologies/smart_open/blob/master/README.rst#migrating-to-the-new-open-function\n",
            "  'See the migration notes for details: %s' % _MIGRATION_NOTES_URL\n"
          ],
          "name": "stderr"
        }
      ]
    },
    {
      "cell_type": "code",
      "metadata": {
        "id": "D8UboOko7e5Y",
        "colab_type": "code",
        "colab": {
          "base_uri": "https://localhost:8080/",
          "height": 493
        },
        "outputId": "56070da1-0670-4e2d-b267-4358e26cc4bc"
      },
      "source": [
        "#Get all vectors of vocabulary\n",
        "X = model[model.wv.vocab]\n",
        "print(\"X shape\",X.shape)\n",
        "\n",
        "print(X[0])"
      ],
      "execution_count": 9,
      "outputs": [
        {
          "output_type": "stream",
          "text": [
            "X shape (15, 100)\n",
            "[ 2.9135135e-03  1.4285046e-05  1.1185204e-03  1.3496878e-04\n",
            "  9.8873663e-04  1.5341229e-03 -4.4907131e-03 -7.7685475e-04\n",
            " -6.9105311e-04  2.2587257e-03  3.1406609e-03 -3.3332636e-03\n",
            " -2.6767668e-03  1.1953127e-03 -3.5304371e-03  4.6545966e-03\n",
            " -1.1890174e-03 -3.4247898e-03 -3.9052751e-03  4.0678177e-03\n",
            "  1.7269397e-03  1.2447416e-03  2.7446535e-03 -4.7188299e-04\n",
            " -1.2271970e-03 -3.8533567e-03  2.9244632e-03  2.3229858e-03\n",
            "  2.8859717e-03  4.2592286e-04 -2.2273655e-03 -2.8640546e-03\n",
            " -1.3150626e-03 -2.6809315e-03  1.7118766e-03  2.1046198e-03\n",
            " -3.2611704e-03 -3.2321010e-03  4.8383302e-03  7.4013125e-04\n",
            " -4.7113788e-03  1.4927160e-03 -3.7778507e-03  1.4883800e-03\n",
            " -1.3176383e-03  2.1976535e-03  4.7051986e-03  4.0804357e-03\n",
            " -7.5584254e-04  1.9860803e-03 -6.2801271e-05 -4.3698576e-05\n",
            " -1.1436137e-03 -2.2207452e-03  2.5657741e-03  3.6820767e-03\n",
            "  1.9881420e-03 -2.3226663e-03 -5.5150251e-04 -5.7888118e-04\n",
            " -3.8584482e-03 -4.3417416e-03  1.3737784e-03  4.9115582e-03\n",
            "  1.8960486e-04  4.5574810e-03  4.8036329e-03  1.1517661e-04\n",
            "  4.0096114e-03  1.6349372e-03 -2.6714946e-03  3.5362903e-03\n",
            " -8.0924865e-04 -4.3122736e-03  2.8035736e-03 -3.6943462e-03\n",
            "  2.0064383e-03  4.4211042e-03 -2.9471677e-03  1.0230663e-03\n",
            " -3.1965266e-03  2.9588188e-04  1.1338226e-03 -1.5302728e-03\n",
            " -2.0160812e-03 -4.2797863e-03 -1.6134917e-03 -4.3942234e-03\n",
            "  2.6946224e-03  1.8384928e-03  3.4850885e-03  3.6728950e-03\n",
            "  1.3800008e-03  1.8570510e-03 -3.0858901e-03  6.0999428e-05\n",
            " -4.3745744e-03  8.8142078e-05  4.8095309e-03 -3.2962000e-03]\n"
          ],
          "name": "stdout"
        },
        {
          "output_type": "stream",
          "text": [
            "/usr/local/lib/python3.6/dist-packages/ipykernel_launcher.py:1: DeprecationWarning: Call to deprecated `__getitem__` (Method will be removed in 4.0.0, use self.wv.__getitem__() instead).\n",
            "  \"\"\"Entry point for launching an IPython kernel.\n"
          ],
          "name": "stderr"
        }
      ]
    },
    {
      "cell_type": "code",
      "metadata": {
        "id": "Bb_pZEQy8hSk",
        "colab_type": "code",
        "colab": {}
      },
      "source": [
        "# Sử dụng PCA để giảm chiều để vẽ lên đucợ biểu đồ\n",
        "from sklearn.decomposition import PCA\n",
        "pca = PCA(n_components=2)\n",
        "result = pca.fit_transform(X)"
      ],
      "execution_count": 0,
      "outputs": []
    },
    {
      "cell_type": "code",
      "metadata": {
        "id": "_1-nz5Z4MGTl",
        "colab_type": "code",
        "colab": {
          "base_uri": "https://localhost:8080/",
          "height": 956
        },
        "outputId": "37ec37ca-c443-4aa5-f161-3ebbc2cca1ad"
      },
      "source": [
        "from matplotlib import pyplot\n",
        "from matplotlib.pyplot import figure\n",
        "figure(num=None, figsize=(15, 15), dpi=80, facecolor='w', edgecolor='k')\n",
        "# create a scatter plot of the projection\n",
        "pyplot.scatter(X[:, 0], X[:, 1])\n",
        "words = list(model.wv.vocab)\n",
        "for i, word in enumerate(words):\n",
        "\tpyplot.annotate(word, xy=(X[i, 0], X[i, 1]))\n",
        "pyplot.show()"
      ],
      "execution_count": 11,
      "outputs": [
        {
          "output_type": "display_data",
          "data": {
            "image/png": "[encoded data removed]",
            "text/plain": [
              "<Figure size 1200x1200 with 1 Axes>"
            ]
          },
          "metadata": {
            "tags": []
          }
        }
      ]
    }
  ]
}